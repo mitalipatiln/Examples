{
 "cells": [
  {
   "cell_type": "markdown",
   "id": "2292a4cc",
   "metadata": {},
   "source": [
    "# We will create an example point along with three sample centroids to help illustrate how Euclidean distance works."
   ]
  },
  {
   "cell_type": "code",
   "execution_count": 1,
   "id": "08924d12",
   "metadata": {},
   "outputs": [],
   "source": [
    "import math\n",
    "import numpy as np\n",
    "def dist(a,b):\n",
    "    return math.sqrt(math.pow(a[0]-b[0],2) + math.pow(a[1]-b[1],2))\n"
   ]
  },
  {
   "cell_type": "markdown",
   "id": "66cacd40",
   "metadata": {},
   "source": [
    "# Create the data points  "
   ]
  },
  {
   "cell_type": "code",
   "execution_count": 2,
   "id": "335e3837",
   "metadata": {},
   "outputs": [],
   "source": [
    "centroids = [ (2, 5), (8, 3), (4,5) ]\n",
    "x = (0, 8)"
   ]
  },
  {
   "cell_type": "markdown",
   "id": "2353d981",
   "metadata": {},
   "source": [
    "# Use the formula you created to calculate the Euclidean distance\n",
    "## Calculating Euclidean Distance between x and centroid."
   ]
  },
  {
   "cell_type": "code",
   "execution_count": 6,
   "id": "61e07677",
   "metadata": {},
   "outputs": [
    {
     "name": "stdout",
     "output_type": "stream",
     "text": [
      "Euclidean Distance between x (0, 8) and centroid (2, 5) is 3.605551275463989\n",
      "Euclidean Distance between x (0, 8) and centroid (8, 3) is 9.433981132056603\n",
      "Euclidean Distance between x (0, 8) and centroid (4, 5) is 5.0\n"
     ]
    }
   ],
   "source": [
    "centroid_distances =[]\n",
    "for centroid in centroids:\n",
    "    print(\"Euclidean Distance between x {} and centroid {} is {}\".format(x ,centroid, dist(x,centroid)))\n",
    "    centroid_distances.append(dist(x,centroid))"
   ]
  },
  {
   "cell_type": "code",
   "execution_count": null,
   "id": "75f387c1",
   "metadata": {},
   "outputs": [],
   "source": []
  }
 ],
 "metadata": {
  "kernelspec": {
   "display_name": "Python 3",
   "language": "python",
   "name": "python3"
  },
  "language_info": {
   "codemirror_mode": {
    "name": "ipython",
    "version": 3
   },
   "file_extension": ".py",
   "mimetype": "text/x-python",
   "name": "python",
   "nbconvert_exporter": "python",
   "pygments_lexer": "ipython3",
   "version": "3.8.8"
  }
 },
 "nbformat": 4,
 "nbformat_minor": 5
}
